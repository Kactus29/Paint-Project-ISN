{
 "cells": [
  {
   "cell_type": "code",
   "execution_count": 1,
   "metadata": {},
   "outputs": [],
   "source": [
    "import cv2"
   ]
  },
  {
   "cell_type": "code",
   "execution_count": null,
   "metadata": {},
   "outputs": [],
   "source": [
    "# Si vous voulez tester n'oubliez pas d'installer OpenCV, et de remplacer mon image par une des votres\n",
    "\n",
    "# %pip install opencv-python"
   ]
  },
  {
   "cell_type": "code",
   "execution_count": 5,
   "metadata": {},
   "outputs": [
    {
     "data": {
      "text/plain": [
       "-1"
      ]
     },
     "execution_count": 5,
     "metadata": {},
     "output_type": "execute_result"
    }
   ],
   "source": [
    "img = cv2.imread('D:\\Bird.jpg')\n",
    "\n",
    "cv2.imshow('Original Bird', img)\n",
    "cv2.waitKey(0)\n",
    "\n",
    "img_gray = cv2.cvtColor(img, cv2.COLOR_BGR2GRAY)\n",
    "\n",
    "img_blur = cv2.GaussianBlur(img_gray, (3,3), 0)\n",
    "cv2.imshow('Gray + Blur', img_blur)\n",
    "cv2.waitKey(0)\n",
    "\n",
    "sobelxy = cv2.Sobel(src=img_blur, ddepth=cv2.CV_64F, dx=1, dy=1, ksize=5)\n",
    "cv2.imshow(\"Sobel x y\", sobelxy)\n",
    "cv2.waitKey(0)\n",
    "\n",
    "edges = cv2.Canny(image=img_blur, threshold1=100, threshold2=200)\n",
    "cv2.imshow(\"Canny edge\", edges)\n",
    "cv2.waitKey(0)\n"
   ]
  },
  {
   "cell_type": "code",
   "execution_count": 7,
   "metadata": {},
   "outputs": [],
   "source": [
    "import cv2\n",
    " \n",
    "# read the image\n",
    "image = cv2.imread('D:\\Tree_mushroom.png')\n",
    " \n",
    "# B, G, R channel splitting\n",
    "blue, green, red = cv2.split(image)\n",
    " \n",
    "# detect contours using blue channel and without thresholding\n",
    "contours1, hierarchy1 = cv2.findContours(image=blue, mode=cv2.RETR_TREE, method=cv2.CHAIN_APPROX_NONE)\n",
    " \n",
    "# draw contours on the original image\n",
    "image_contour_blue = image.copy()\n",
    "cv2.drawContours(image=image_contour_blue, contours=contours1, contourIdx=-1, color=(0, 255, 0), thickness=2, lineType=cv2.LINE_AA)\n",
    "# see the results\n",
    "cv2.imshow('Contour detection using blue channels only', image_contour_blue)\n",
    "cv2.waitKey(0)\n",
    "cv2.imwrite('blue_channel.jpg', image_contour_blue)\n",
    "cv2.destroyAllWindows()\n",
    " \n",
    "# detect contours using green channel and without thresholding\n",
    "contours2, hierarchy2 = cv2.findContours(image=green, mode=cv2.RETR_TREE, method=cv2.CHAIN_APPROX_NONE)\n",
    "# draw contours on the original image\n",
    "image_contour_green = image.copy()\n",
    "cv2.drawContours(image=image_contour_green, contours=contours2, contourIdx=-1, color=(0, 255, 0), thickness=2, lineType=cv2.LINE_AA)\n",
    "# see the results\n",
    "cv2.imshow('Contour detection using green channels only', image_contour_green)\n",
    "cv2.waitKey(0)\n",
    "cv2.imwrite('green_channel.jpg', image_contour_green)\n",
    "cv2.destroyAllWindows()\n",
    " \n",
    "# detect contours using red channel and without thresholding\n",
    "contours3, hierarchy3 = cv2.findContours(image=red, mode=cv2.RETR_TREE, method=cv2.CHAIN_APPROX_NONE)\n",
    "# draw contours on the original image\n",
    "image_contour_red = image.copy()\n",
    "cv2.drawContours(image=image_contour_red, contours=contours3, contourIdx=-1, color=(0, 255, 0), thickness=2, lineType=cv2.LINE_AA)\n",
    "# see the results\n",
    "cv2.imshow('Contour detection using red channels only', image_contour_red)\n",
    "cv2.waitKey(0)\n",
    "cv2.imwrite('red_channel.jpg', image_contour_red)\n",
    "cv2.destroyAllWindows()"
   ]
  },
  {
   "cell_type": "code",
   "execution_count": 8,
   "metadata": {},
   "outputs": [],
   "source": [
    "# to actually visualize the effect of `CHAIN_APPROX_SIMPLE`, we need a proper image\n",
    "image1 = cv2.imread('D:\\Tree_mushroom.png')\n",
    "img_gray1 = cv2.cvtColor(image1, cv2.COLOR_BGR2GRAY)\n",
    " \n",
    "ret, thresh1 = cv2.threshold(img_gray1, 150, 255, cv2.THRESH_BINARY)\n",
    "contours2, hierarchy2 = cv2.findContours(thresh1, cv2.RETR_TREE,\n",
    "                                               cv2.CHAIN_APPROX_SIMPLE)\n",
    "image_copy2 = image1.copy()\n",
    "cv2.drawContours(image_copy2, contours2, -1, (0, 255, 0), 2, cv2.LINE_AA)\n",
    "cv2.imshow('SIMPLE Approximation contours', image_copy2)\n",
    "cv2.waitKey(0)\n",
    "image_copy3 = image1.copy()\n",
    "for i, contour in enumerate(contours2): # loop over one contour area\n",
    "   for j, contour_point in enumerate(contour): # loop over the points\n",
    "       # draw a circle on the current contour coordinate\n",
    "       cv2.circle(image_copy3, ((contour_point[0][0], contour_point[0][1])), 2, (0, 255, 0), 2, cv2.LINE_AA)\n",
    "# see the results\n",
    "cv2.imshow('CHAIN_APPROX_SIMPLE Point only', image_copy3)\n",
    "cv2.waitKey(0)\n",
    "cv2.imwrite('contour_point_simple.jpg', image_copy3)\n",
    "cv2.destroyAllWindows()"
   ]
  }
 ],
 "metadata": {
  "kernelspec": {
   "display_name": "Python 3",
   "language": "python",
   "name": "python3"
  },
  "language_info": {
   "codemirror_mode": {
    "name": "ipython",
    "version": 3
   },
   "file_extension": ".py",
   "mimetype": "text/x-python",
   "name": "python",
   "nbconvert_exporter": "python",
   "pygments_lexer": "ipython3",
   "version": "3.9.4"
  }
 },
 "nbformat": 4,
 "nbformat_minor": 2
}
